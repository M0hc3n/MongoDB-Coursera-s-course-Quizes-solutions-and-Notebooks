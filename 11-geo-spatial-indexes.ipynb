{
 "cells": [
  {
   "cell_type": "code",
   "execution_count": 1,
   "metadata": {},
   "outputs": [],
   "source": [
    "import pymongo\n",
    "import pprint"
   ]
  },
  {
   "cell_type": "code",
   "execution_count": 2,
   "metadata": {},
   "outputs": [],
   "source": [
    "# Replace XXXX with your connection URI from the Atlas UI\n",
    "client = pymongo.MongoClient(XXX)\n",
    "theaters = client.sample_mflix.theaters"
   ]
  },
  {
   "cell_type": "code",
   "execution_count": 5,
   "metadata": {},
   "outputs": [],
   "source": [
    "# visualize the data's form\n",
    "one_theater = theaters.find_one({})"
   ]
  },
  {
   "cell_type": "code",
   "execution_count": 6,
   "metadata": {},
   "outputs": [
    {
     "name": "stdout",
     "output_type": "stream",
     "text": [
      "{'coordinates': [-121.96328, 38.367649], 'type': 'Point'}\n"
     ]
    }
   ],
   "source": [
    "# in-depth look of \"geo\" field\n",
    "from pprint import PrettyPrinter\n",
    "\n",
    "\n",
    "pprint.pprint(one_theater[\"location\"][\"geo\"])"
   ]
  },
  {
   "cell_type": "code",
   "execution_count": 7,
   "metadata": {},
   "outputs": [],
   "source": [
    "EARTH_RADIUS_MILES = 3963.2\n",
    "EARTH_RADIUS_KILOMETERS = 6378.1"
   ]
  },
  {
   "cell_type": "code",
   "execution_count": 8,
   "metadata": {},
   "outputs": [],
   "source": [
    "example_radius = 0.1747728893434987"
   ]
  },
  {
   "cell_type": "code",
   "execution_count": 9,
   "metadata": {},
   "outputs": [],
   "source": [
    "# converting the radius example to miles\n",
    "radius_in_miles = example_radius * EARTH_RADIUS_MILES"
   ]
  },
  {
   "cell_type": "code",
   "execution_count": 10,
   "metadata": {},
   "outputs": [
    {
     "name": "stdout",
     "output_type": "stream",
     "text": [
      "692.659915046154\n"
     ]
    }
   ],
   "source": [
    "print(radius_in_miles)\n"
   ]
  },
  {
   "cell_type": "code",
   "execution_count": 18,
   "metadata": {},
   "outputs": [],
   "source": [
    "# we will be looking for the nearest theaters to the point that we will enter its coordiantes\n",
    "query={\n",
    "    \"location.geo\":{\n",
    "        \"$nearSphere\": {\n",
    "            \"$geometry\":{\n",
    "                \"type\": \"Point\",\n",
    "                \"coordinates\": [-97.567085, 35.529671]\n",
    "            },\n",
    "            \"$minDistance\": 0,\n",
    "            \"$maxDistance\": 10000\n",
    "        }\n",
    "    }\n",
    "}\n",
    "\n",
    "# $geometry creates a geometric shape that we specify\n",
    "# in this example we are creating a point with its appropraite coordinates: [longitude, lattitude]\n",
    "# $nearSphere will return a sorted (according to the distance) theaters\n",
    "# we provide it with the min and max Distance to not sort all the collection\n",
    "# N.B: min and max Distance need to be in meters"
   ]
  },
  {
   "cell_type": "code",
   "execution_count": 19,
   "metadata": {},
   "outputs": [
    {
     "name": "stdout",
     "output_type": "stream",
     "text": [
      "{'_id': ObjectId('59a47287cfa9a3a73e51e92b'),\n",
      " 'location': {'address': {'city': 'Oklahoma City',\n",
      "                          'state': 'OK',\n",
      "                          'street1': '5801 N May Ave',\n",
      "                          'zipcode': '73112'},\n",
      "              'geo': {'coordinates': [-97.567085, 35.529671], 'type': 'Point'}},\n",
      " 'theaterId': 220}\n",
      "{'_id': ObjectId('59a47287cfa9a3a73e51ebee'),\n",
      " 'location': {'address': {'city': 'Oklahoma City',\n",
      "                          'state': 'OK',\n",
      "                          'street1': '2135 W Memorial Rd',\n",
      "                          'zipcode': '73134'},\n",
      "              'geo': {'coordinates': [-97.552216, 35.610817], 'type': 'Point'}},\n",
      " 'theaterId': 646}\n",
      "{'_id': ObjectId('59a47286cfa9a3a73e51e81c'),\n",
      " 'location': {'address': {'city': 'Oklahoma City',\n",
      "                          'state': 'OK',\n",
      "                          'street1': '6421 Sw 3rd St',\n",
      "                          'zipcode': '73128'},\n",
      "              'geo': {'coordinates': [-97.62691, 35.46283], 'type': 'Point'}},\n",
      " 'theaterId': 1419}\n",
      "{'_id': ObjectId('59a47287cfa9a3a73e51ea98'),\n",
      " 'location': {'address': {'city': 'Oklahoma City',\n",
      "                          'state': 'OK',\n",
      "                          'street1': '2501 W Memorial Rd',\n",
      "                          'street2': 'Ste 144',\n",
      "                          'zipcode': '73134'},\n",
      "              'geo': {'coordinates': [-97.561129, 35.612494], 'type': 'Point'}},\n",
      " 'theaterId': 2979}\n"
     ]
    }
   ],
   "source": [
    "for theater in list(theaters.find(query)):\n",
    "    pprint.pprint(theater)"
   ]
  },
  {
   "cell_type": "code",
   "execution_count": 29,
   "metadata": {},
   "outputs": [
    {
     "name": "stdout",
     "output_type": "stream",
     "text": [
      "{'_id': ObjectId('59a47287cfa9a3a73e51e92b'),\n",
      " 'location': {'address': {'city': 'Oklahoma City',\n",
      "                          'state': 'OK',\n",
      "                          'street1': '5801 N May Ave',\n",
      "                          'zipcode': '73112'},\n",
      "              'geo': {'coordinates': [-97.567085, 35.529671], 'type': 'Point'}},\n",
      " 'theaterId': 220}\n",
      "{'_id': ObjectId('59a47287cfa9a3a73e51ebee'),\n",
      " 'location': {'address': {'city': 'Oklahoma City',\n",
      "                          'state': 'OK',\n",
      "                          'street1': '2135 W Memorial Rd',\n",
      "                          'zipcode': '73134'},\n",
      "              'geo': {'coordinates': [-97.552216, 35.610817], 'type': 'Point'}},\n",
      " 'theaterId': 646}\n",
      "{'_id': ObjectId('59a47286cfa9a3a73e51e81c'),\n",
      " 'location': {'address': {'city': 'Oklahoma City',\n",
      "                          'state': 'OK',\n",
      "                          'street1': '6421 Sw 3rd St',\n",
      "                          'zipcode': '73128'},\n",
      "              'geo': {'coordinates': [-97.62691, 35.46283], 'type': 'Point'}},\n",
      " 'theaterId': 1419}\n",
      "{'_id': ObjectId('59a47287cfa9a3a73e51ea98'),\n",
      " 'location': {'address': {'city': 'Oklahoma City',\n",
      "                          'state': 'OK',\n",
      "                          'street1': '2501 W Memorial Rd',\n",
      "                          'street2': 'Ste 144',\n",
      "                          'zipcode': '73134'},\n",
      "              'geo': {'coordinates': [-97.561129, 35.612494], 'type': 'Point'}},\n",
      " 'theaterId': 2979}\n"
     ]
    }
   ],
   "source": [
    "# same coordinates but this time with $near\n",
    "# the main difference between $near and $nearSphere\n",
    "# is that $nearSphere returns geospatical objects in proximity to a point on a sphere\n",
    "# but $near returns geospatical objects in proximity to a point\n",
    "\n",
    "query={\n",
    "    \"location.geo\":{\n",
    "        \"$nearSphere\": {\n",
    "            \"$geometry\":{\n",
    "                \"type\": \"Point\",\n",
    "                \"coordinates\": [-97.567085, 35.529671]\n",
    "            },\n",
    "            \"$minDistance\": 0,\n",
    "            \"$maxDistance\": 10000\n",
    "        }\n",
    "    }\n",
    "}\n",
    "\n",
    "for theater in list(theaters.find(query)):\n",
    "    pprint.pprint(theater)"
   ]
  },
  {
   "cell_type": "code",
   "execution_count": null,
   "metadata": {},
   "outputs": [],
   "source": []
  },
  {
   "cell_type": "code",
   "execution_count": null,
   "metadata": {},
   "outputs": [],
   "source": []
  }
 ],
 "metadata": {
  "kernelspec": {
   "display_name": "Python 3.10.6 64-bit",
   "language": "python",
   "name": "python3"
  },
  "language_info": {
   "codemirror_mode": {
    "name": "ipython",
    "version": 3
   },
   "file_extension": ".py",
   "mimetype": "text/x-python",
   "name": "python",
   "nbconvert_exporter": "python",
   "pygments_lexer": "ipython3",
   "version": "3.10.6"
  },
  "orig_nbformat": 4,
  "vscode": {
   "interpreter": {
    "hash": "12d2c2d3923c7307a4e154db21fd62efd3624ebe6ee91bf0174fbeadb14239a8"
   }
  }
 },
 "nbformat": 4,
 "nbformat_minor": 2
}
