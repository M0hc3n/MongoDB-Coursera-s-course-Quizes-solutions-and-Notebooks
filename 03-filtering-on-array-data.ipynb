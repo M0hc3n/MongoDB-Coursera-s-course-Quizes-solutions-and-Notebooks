{
 "cells": [
  {
   "cell_type": "code",
   "execution_count": 13,
   "metadata": {},
   "outputs": [],
   "source": [
    "import pymongo\n",
    "from pymongo import MongoClient\n",
    "import pprint\n",
    "from IPython.display import clear_output\n",
    "\n",
    "# Replace XXXX with your connection URI from the Atlas UI\n",
    "client = MongoClient(XXX)\n",
    "\n",
    "# this will print all movies that include USA as a country\n",
    "filter1 = {\n",
    "        'countries':'USA'\n",
    "}\n",
    "\n",
    "# this will print all movies that have USA as ONLY country\n",
    "filter2 = {\n",
    "    'countries': ['USA']\n",
    "}\n",
    "\n",
    "# this will print all movies that have USA and France as countries\n",
    "filter3 = {\n",
    "    'countries': ['USA', 'France']\n",
    "}\n",
    "\n",
    "# this will print all movies that have USA as First country \n",
    "# we can modify the order by setting the number to 1, 2 ...\n",
    "filter4 = {\n",
    "    'countries.0': 'USA' \n",
    "    \n",
    "    # 'countries.1': 'USA' / for ex this will print all movies that have USA as Second country\n",
    "}\n",
    "\n",
    "# we specify the projection so that we do not have to output objects we do not need\n",
    "projection = {\n",
    "    '_id': 0 ,# if not specified, the id is going to be printed \n",
    "    'title': 1,\n",
    "    'countries': 1,\n",
    "    # other values are going to be 0 by default, which means that the projection will be ignoring them\n",
    "\n",
    "}\n",
    "\n",
    "clear_output()\n",
    "pprint.pprint(list(client.Movies.movies.find(filter4, projection)))"
   ]
  },
  {
   "cell_type": "code",
   "execution_count": null,
   "metadata": {},
   "outputs": [],
   "source": []
  }
 ],
 "metadata": {
  "kernelspec": {
   "display_name": "Python 3.10.4 64-bit",
   "language": "python",
   "name": "python3"
  },
  "language_info": {
   "codemirror_mode": {
    "name": "ipython",
    "version": 3
   },
   "file_extension": ".py",
   "mimetype": "text/x-python",
   "name": "python",
   "nbconvert_exporter": "python",
   "pygments_lexer": "ipython3",
   "version": "3.10.6"
  },
  "orig_nbformat": 4,
  "vscode": {
   "interpreter": {
    "hash": "12d2c2d3923c7307a4e154db21fd62efd3624ebe6ee91bf0174fbeadb14239a8"
   }
  }
 },
 "nbformat": 4,
 "nbformat_minor": 2
}
