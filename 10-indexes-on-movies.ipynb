{
 "cells": [
  {
   "cell_type": "code",
   "execution_count": 2,
   "metadata": {},
   "outputs": [],
   "source": [
    "import pymongo\n",
    "import pprint"
   ]
  },
  {
   "cell_type": "code",
   "execution_count": 3,
   "metadata": {},
   "outputs": [],
   "source": [
    "# Replace XXXX with your connection URI from the Atlas UI\n",
    "client = pymongo.MongoClient(XXX)\n",
    "movies= client.sample_mflix.movies"
   ]
  },
  {
   "cell_type": "code",
   "execution_count": 4,
   "metadata": {},
   "outputs": [
    {
     "name": "stdout",
     "output_type": "stream",
     "text": [
      "{'_id_': {'key': [('_id', 1)], 'v': 2},\n",
      " 'cast_text_fullplot_text_genres_text_title_text': {'default_language': 'english',\n",
      "                                                    'key': [('_fts', 'text'),\n",
      "                                                            ('_ftsx', 1)],\n",
      "                                                    'language_override': 'language',\n",
      "                                                    'textIndexVersion': 3,\n",
      "                                                    'v': 2,\n",
      "                                                    'weights': SON([('cast', 1), ('fullplot', 1), ('genres', 1), ('title', 1)])}}\n"
     ]
    }
   ],
   "source": [
    "# getting the list of available indexes\n",
    "pprint.pprint(movies.index_information())"
   ]
  },
  {
   "cell_type": "code",
   "execution_count": 5,
   "metadata": {},
   "outputs": [
    {
     "name": "stdout",
     "output_type": "stream",
     "text": [
      "{'_id': ObjectId('573a1390f29313caabcd42e8'),\n",
      " 'awards': {'nominations': 0, 'text': '1 win.', 'wins': 1},\n",
      " 'cast': ['A.C. Abadie',\n",
      "          \"Gilbert M. 'Broncho Billy' Anderson\",\n",
      "          'George Barnes',\n",
      "          'Justus D. Barnes'],\n",
      " 'countries': ['USA'],\n",
      " 'directors': ['Edwin S. Porter'],\n",
      " 'fullplot': 'Among the earliest existing films in American cinema - notable '\n",
      "             'as the first film that presented a narrative story to tell - it '\n",
      "             'depicts a group of cowboy outlaws who hold up a train and rob '\n",
      "             \"the passengers. They are then pursued by a Sheriff's posse. \"\n",
      "             'Several scenes have color included - all hand tinted.',\n",
      " 'genres': ['Short', 'Western'],\n",
      " 'imdb': {'id': 439, 'rating': 7.4, 'votes': 9847},\n",
      " 'languages': ['English'],\n",
      " 'lastupdated': '2015-08-13 00:27:59.177000000',\n",
      " 'num_mflix_comments': 0,\n",
      " 'plot': 'A group of bandits stage a brazen train hold-up, only to find a '\n",
      "         'determined posse hot on their heels.',\n",
      " 'poster': 'https://m.media-amazon.com/images/M/MV5BMTU3NjE5NzYtYTYyNS00MDVmLWIwYjgtMmYwYWIxZDYyNzU2XkEyXkFqcGdeQXVyNzQzNzQxNzI@._V1_SY1000_SX677_AL_.jpg',\n",
      " 'rated': 'TV-G',\n",
      " 'released': datetime.datetime(1903, 12, 1, 0, 0),\n",
      " 'runtime': 11,\n",
      " 'title': 'The Great Train Robbery',\n",
      " 'tomatoes': {'critic': {'meter': 100, 'numReviews': 6, 'rating': 7.6},\n",
      "              'fresh': 6,\n",
      "              'lastUpdated': datetime.datetime(2015, 8, 8, 19, 16, 10),\n",
      "              'rotten': 0,\n",
      "              'viewer': {'meter': 75, 'numReviews': 2559, 'rating': 3.7}},\n",
      " 'type': 'movie',\n",
      " 'year': 1903}\n"
     ]
    }
   ],
   "source": [
    "pprint.pprint(movies.find_one())"
   ]
  },
  {
   "cell_type": "code",
   "execution_count": 6,
   "metadata": {},
   "outputs": [
    {
     "data": {
      "text/plain": [
       "{'explainVersion': '1',\n",
       " 'queryPlanner': {'namespace': 'sample_mflix.movies',\n",
       "  'indexFilterSet': False,\n",
       "  'parsedQuery': {'tomatoes.viewer.numReviews': {'$eq': {'gt': 10}}},\n",
       "  'maxIndexedOrSolutionsReached': False,\n",
       "  'maxIndexedAndSolutionsReached': False,\n",
       "  'maxScansToExplodeReached': False,\n",
       "  'winningPlan': {'stage': 'COLLSCAN',\n",
       "   'filter': {'tomatoes.viewer.numReviews': {'$eq': {'gt': 10}}},\n",
       "   'direction': 'forward'},\n",
       "  'rejectedPlans': []},\n",
       " 'executionStats': {'executionSuccess': True,\n",
       "  'nReturned': 0,\n",
       "  'executionTimeMillis': 94,\n",
       "  'totalKeysExamined': 0,\n",
       "  'totalDocsExamined': 23530,\n",
       "  'executionStages': {'stage': 'COLLSCAN',\n",
       "   'filter': {'tomatoes.viewer.numReviews': {'$eq': {'gt': 10}}},\n",
       "   'nReturned': 0,\n",
       "   'executionTimeMillisEstimate': 22,\n",
       "   'works': 23532,\n",
       "   'advanced': 0,\n",
       "   'needTime': 23531,\n",
       "   'needYield': 0,\n",
       "   'saveState': 23,\n",
       "   'restoreState': 23,\n",
       "   'isEOF': 1,\n",
       "   'direction': 'forward',\n",
       "   'docsExamined': 23530}},\n",
       " 'command': {'find': 'movies',\n",
       "  'filter': {'tomatoes.viewer.numReviews': {'gt': 10}},\n",
       "  '$db': 'sample_mflix'},\n",
       " 'serverInfo': {'host': 'ac-wolqjma-shard-00-02.pgjysjd.mongodb.net',\n",
       "  'port': 27017,\n",
       "  'version': '5.0.12',\n",
       "  'gitVersion': '79cfcdd83eb6f64e164a588d0daf9bb873328b45'},\n",
       " 'serverParameters': {'internalQueryFacetBufferSizeBytes': 104857600,\n",
       "  'internalQueryFacetMaxOutputDocSizeBytes': 104857600,\n",
       "  'internalLookupStageIntermediateDocumentMaxSizeBytes': 16793600,\n",
       "  'internalDocumentSourceGroupMaxMemoryBytes': 104857600,\n",
       "  'internalQueryMaxBlockingSortMemoryUsageBytes': 33554432,\n",
       "  'internalQueryProhibitBlockingMergeOnMongoS': 0,\n",
       "  'internalQueryMaxAddToSetBytes': 104857600,\n",
       "  'internalDocumentSourceSetWindowFieldsMaxMemoryBytes': 104857600},\n",
       " 'ok': 1.0,\n",
       " '$clusterTime': {'clusterTime': Timestamp(1663158201, 3),\n",
       "  'signature': {'hash': b\"\\xf3.\\xddK#Gv\\xd2!\\nG'H\\xe6!\\x17IP\\x84\\xcb\",\n",
       "   'keyId': 7104260268502286338}},\n",
       " 'operationTime': Timestamp(1663158201, 3)}"
      ]
     },
     "execution_count": 6,
     "metadata": {},
     "output_type": "execute_result"
    }
   ],
   "source": [
    "# explaining the query\n",
    "explain = {\n",
    "    \"explain\":{\n",
    "        \"find\":\"movies\",\n",
    "        \"filter\": { \n",
    "            \"tomatoes.viewer.numReviews\": {\"gt\": 10} \n",
    "        }\n",
    "    },\n",
    "    \"verbosity\": \"executionStats\"\n",
    "}\n",
    "\n",
    "client.sample_mflix.command(explain)"
   ]
  },
  {
   "cell_type": "markdown",
   "metadata": {},
   "source": [
    "# Exact vs Text Search #"
   ]
  },
  {
   "cell_type": "code",
   "execution_count": 7,
   "metadata": {},
   "outputs": [
    {
     "name": "stdout",
     "output_type": "stream",
     "text": [
      "'Titanic'\n",
      "'Titanic'\n",
      "'Titanic'\n"
     ]
    }
   ],
   "source": [
    "filters = {\"title\": \"Titanic\"}\n",
    "\n",
    "for m in movies.find(filters):\n",
    "    pprint.pprint(m[\"title\"])\n",
    "\n",
    "# if we take a look at the result, we will find that the movies found,\n",
    "# all share the same name which is the name we looked for\n",
    "# this is what \"Exact\" Search means"
   ]
  },
  {
   "cell_type": "code",
   "execution_count": 9,
   "metadata": {},
   "outputs": [
    {
     "name": "stdout",
     "output_type": "stream",
     "text": [
      "'Titanic'\n",
      "'=========='\n",
      "'Titan A.E.'\n",
      "'=========='\n",
      "'Wrath of the Titans'\n",
      "'=========='\n",
      "'The Chambermaid on the Titanic'\n",
      "'=========='\n",
      "'Titanic'\n",
      "'=========='\n",
      "'Raise the Titanic'\n",
      "'=========='\n",
      "'A Night to Remember'\n",
      "'=========='\n",
      "'Titanic'\n",
      "'=========='\n",
      "'Immortals'\n",
      "'=========='\n",
      "'Clash of the Titans'\n",
      "'=========='\n",
      "'Remember the Titans'\n",
      "'=========='\n",
      "'Titanic Town'\n",
      "'=========='\n",
      "'Clash of the Titans'\n",
      "'=========='\n",
      "'The Ten Lives of Titanic the Cat'\n",
      "'=========='\n",
      "'Khodorkovsky'\n",
      "'=========='\n",
      "'Cavalcade'\n",
      "'=========='\n",
      "'Titanica'\n",
      "'=========='\n",
      "'Megamind'\n",
      "'=========='\n",
      "'Justice League: Doom'\n",
      "'=========='\n",
      "'Mune, le gardien de la lune'\n",
      "'=========='\n",
      "'Space Chimps 2: Zartog Strikes Back'\n",
      "'=========='\n",
      "'Mr. Peabody & Sherman'\n",
      "'=========='\n",
      "\"Bèbè's Kids\"\n",
      "'=========='\n",
      "'The Unsinkable Molly Brown'\n",
      "'=========='\n",
      "'Ghosts of the Abyss'\n",
      "'=========='\n",
      "'Flash of Genius'\n",
      "'=========='\n"
     ]
    }
   ],
   "source": [
    "filters= {\n",
    "    \"$text\":{\n",
    "        \"$search\": \"titanic\"\n",
    "    }\n",
    "}\n",
    "\n",
    "for m in movies.find(filters):\n",
    "    pprint.pprint(m[\"title\"])\n",
    "    pprint.pprint(\"==========\")\n",
    "\n",
    "# by looking at the titles, we find that they are not only limited to the exact term we looked for\n",
    "# it exceeds it to look for the substrings and the characters in the searched term"
   ]
  },
  {
   "cell_type": "markdown",
   "metadata": {},
   "source": [
    "# Create an Index #"
   ]
  },
  {
   "cell_type": "code",
   "execution_count": 10,
   "metadata": {},
   "outputs": [
    {
     "data": {
      "text/plain": [
       "'countries_1'"
      ]
     },
     "execution_count": 10,
     "metadata": {},
     "output_type": "execute_result"
    }
   ],
   "source": [
    "movies.create_index([(\"countries\", pymongo.ASCENDING)])"
   ]
  },
  {
   "cell_type": "code",
   "execution_count": 11,
   "metadata": {},
   "outputs": [
    {
     "name": "stdout",
     "output_type": "stream",
     "text": [
      "{'_id_': {'key': [('_id', 1)], 'v': 2},\n",
      " 'cast_text_fullplot_text_genres_text_title_text': {'default_language': 'english',\n",
      "                                                    'key': [('_fts', 'text'),\n",
      "                                                            ('_ftsx', 1)],\n",
      "                                                    'language_override': 'language',\n",
      "                                                    'textIndexVersion': 3,\n",
      "                                                    'v': 2,\n",
      "                                                    'weights': SON([('cast', 1), ('fullplot', 1), ('genres', 1), ('title', 1)])},\n",
      " 'countries_1': {'key': [('countries', 1)], 'v': 2}}\n"
     ]
    }
   ],
   "source": [
    "pprint.pprint(movies.index_information())"
   ]
  },
  {
   "cell_type": "code",
   "execution_count": null,
   "metadata": {},
   "outputs": [],
   "source": []
  }
 ],
 "metadata": {
  "kernelspec": {
   "display_name": "Python 3.10.6 64-bit",
   "language": "python",
   "name": "python3"
  },
  "language_info": {
   "codemirror_mode": {
    "name": "ipython",
    "version": 3
   },
   "file_extension": ".py",
   "mimetype": "text/x-python",
   "name": "python",
   "nbconvert_exporter": "python",
   "pygments_lexer": "ipython3",
   "version": "3.10.6"
  },
  "orig_nbformat": 4,
  "vscode": {
   "interpreter": {
    "hash": "12d2c2d3923c7307a4e154db21fd62efd3624ebe6ee91bf0174fbeadb14239a8"
   }
  }
 },
 "nbformat": 4,
 "nbformat_minor": 2
}
