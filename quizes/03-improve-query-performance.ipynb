{
 "cells": [
  {
   "cell_type": "code",
   "execution_count": 1,
   "metadata": {},
   "outputs": [],
   "source": [
    "import pymongo\n",
    "import pprint"
   ]
  },
  {
   "cell_type": "code",
   "execution_count": 2,
   "metadata": {},
   "outputs": [],
   "source": [
    "# Replace XXXX with your connection URI from the Atlas UI\n",
    "free_tier_client = pymongo.MongoClient(XXX)"
   ]
  },
  {
   "cell_type": "code",
   "execution_count": 3,
   "metadata": {},
   "outputs": [],
   "source": [
    "# We're using the people-raw dataset from the Cleansing Data with Updates assessment\n",
    "people = free_tier_client.cleansing[\"people-raw\"]\n"
   ]
  },
  {
   "cell_type": "code",
   "execution_count": 4,
   "metadata": {},
   "outputs": [],
   "source": [
    "# This is a helper function to reduce the output of explain to a few key metrics\n",
    "def distilled_explain(explain_output):\n",
    "    return {\n",
    "        'executionTimeMillis': explain_output['executionStats']['executionTimeMillis'],\n",
    "        'totalDocsExamined'  : explain_output['executionStats']['totalDocsExamined'],\n",
    "        'nReturned'          : explain_output['executionStats']['nReturned']\n",
    "    }"
   ]
  },
  {
   "cell_type": "code",
   "execution_count": 5,
   "metadata": {},
   "outputs": [],
   "source": [
    "query_1_stats = people.find({\n",
    "  \"address.state\": \"Nebraska\",\n",
    "  \"last_name\": \"Miller\",\n",
    "}).explain()\n",
    "\n",
    "query_2_stats = people.find({\n",
    "  \"first_name\": \"Harry\",\n",
    "  \"last_name\": \"Reed\"\n",
    "}).explain()"
   ]
  },
  {
   "cell_type": "code",
   "execution_count": 6,
   "metadata": {},
   "outputs": [
    {
     "name": "stdout",
     "output_type": "stream",
     "text": [
      "{'executionTimeMillis': 69, 'totalDocsExamined': 50474, 'nReturned': 6}\n",
      "{'executionTimeMillis': 25, 'totalDocsExamined': 50474, 'nReturned': 1}\n"
     ]
    }
   ],
   "source": [
    "# This is to provide a baseline for how long it takes to execute these queries\n",
    "print(distilled_explain(query_1_stats))\n",
    "print(distilled_explain(query_2_stats))"
   ]
  },
  {
   "cell_type": "code",
   "execution_count": 7,
   "metadata": {},
   "outputs": [
    {
     "data": {
      "text/plain": [
       "'first_name_1_last_name_1'"
      ]
     },
     "execution_count": 7,
     "metadata": {},
     "output_type": "execute_result"
    }
   ],
   "source": [
    "# Replace \"YYYY\" with the best index to increase the performance of the two queries above\n",
    "people.create_index([(\"first_name\", pymongo.ASCENDING), (\"last_name\", pymongo.ASCENDING)])"
   ]
  },
  {
   "cell_type": "code",
   "execution_count": 8,
   "metadata": {},
   "outputs": [],
   "source": [
    "query_1_stats = people.find({\n",
    "  \"address.state\": \"Nebraska\",\n",
    "  \"last_name\": \"Miller\",\n",
    "}).explain()\n",
    "\n",
    "query_2_stats = people.find({\n",
    "  \"first_name\": \"Harry\",\n",
    "  \"last_name\": \"Reed\"\n",
    "}).explain()"
   ]
  },
  {
   "cell_type": "code",
   "execution_count": 9,
   "metadata": {},
   "outputs": [
    {
     "name": "stdout",
     "output_type": "stream",
     "text": [
      "{'executionTimeMillis': 30, 'totalDocsExamined': 50474, 'nReturned': 6}\n",
      "{'executionTimeMillis': 1, 'totalDocsExamined': 1, 'nReturned': 1}\n"
     ]
    }
   ],
   "source": [
    "# If everything went well, both queries should now have *much* lower execution times and documents examined\n",
    "print(distilled_explain(query_1_stats))\n",
    "print(distilled_explain(query_2_stats))"
   ]
  },
  {
   "cell_type": "code",
   "execution_count": null,
   "metadata": {},
   "outputs": [],
   "source": [
    "# we can see the time optimazation that occured\n",
    "#  69ms --> 30ms, 25ms --> 1ms"
   ]
  }
 ],
 "metadata": {
  "kernelspec": {
   "display_name": "Python 3.10.6 64-bit",
   "language": "python",
   "name": "python3"
  },
  "language_info": {
   "codemirror_mode": {
    "name": "ipython",
    "version": 3
   },
   "file_extension": ".py",
   "mimetype": "text/x-python",
   "name": "python",
   "nbconvert_exporter": "python",
   "pygments_lexer": "ipython3",
   "version": "3.10.6"
  },
  "orig_nbformat": 4,
  "vscode": {
   "interpreter": {
    "hash": "12d2c2d3923c7307a4e154db21fd62efd3624ebe6ee91bf0174fbeadb14239a8"
   }
  }
 },
 "nbformat": 4,
 "nbformat_minor": 2
}
