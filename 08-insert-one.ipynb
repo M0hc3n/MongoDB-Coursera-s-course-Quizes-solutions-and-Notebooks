{
 "cells": [
  {
   "cell_type": "code",
   "execution_count": 1,
   "metadata": {},
   "outputs": [],
   "source": [
    "import pymongo\n",
    "import pprint\n",
    "import bson.objectid\n",
    "from datetime import datetime"
   ]
  },
  {
   "cell_type": "code",
   "execution_count": 6,
   "metadata": {},
   "outputs": [],
   "source": [
    "# Replace XXXX with your connection URI from the Atlas UI\n",
    "client = pymongo.MongoClient(XXX)\n",
    "comments = client.sample_mflix.comments"
   ]
  },
  {
   "cell_type": "code",
   "execution_count": 3,
   "metadata": {},
   "outputs": [],
   "source": [
    "# fake comment\n",
    "comment = {\n",
    "    \"name\": \"some users's name\",\n",
    "    \"email\": \"someuser@email.com\",\n",
    "    \"movie_id\": bson.objectid.ObjectId(),\n",
    "    \"text\": \"some nice comment on our movie\",\n",
    "    \"date\": datetime.utcnow()\n",
    "}"
   ]
  },
  {
   "cell_type": "code",
   "execution_count": 4,
   "metadata": {},
   "outputs": [],
   "source": [
    "bypass_validation = False"
   ]
  },
  {
   "cell_type": "code",
   "execution_count": 7,
   "metadata": {},
   "outputs": [],
   "source": [
    "# inserting the fake comment among the comments collection\n",
    "insert_comment = comments.insert_one(comment, bypass_validation)"
   ]
  },
  {
   "cell_type": "code",
   "execution_count": 8,
   "metadata": {},
   "outputs": [
    {
     "name": "stdout",
     "output_type": "stream",
     "text": [
      "True\n"
     ]
    }
   ],
   "source": [
    "# checking if the comment was inserted successfully\n",
    "pprint.pprint(insert_comment.acknowledged)"
   ]
  },
  {
   "cell_type": "code",
   "execution_count": 10,
   "metadata": {},
   "outputs": [
    {
     "name": "stdout",
     "output_type": "stream",
     "text": [
      "ObjectId('63163cc0219df906833b15e6')\n"
     ]
    }
   ],
   "source": [
    "# printing the id of the inserted comment\n",
    "pprint.pprint(insert_comment.inserted_id)"
   ]
  },
  {
   "cell_type": "code",
   "execution_count": 12,
   "metadata": {},
   "outputs": [
    {
     "name": "stdout",
     "output_type": "stream",
     "text": [
      "True\n",
      "'some_id_field'\n"
     ]
    }
   ],
   "source": [
    "# now , we will be providing a custom id to the document\n",
    "comment = {\n",
    "    \"_id\": \"some_id_field\",\n",
    "    \"name\": \"some users's name\",\n",
    "    \"email\": \"someuser@email.com\",\n",
    "    \"movie_id\": bson.objectid.ObjectId(),\n",
    "    \"text\": \"Hi, it's me again!\",\n",
    "    \"date\": datetime.utcnow()\n",
    "}\n",
    "\n",
    "insert_comment = comments.insert_one(comment, bypass_validation)\n",
    "pprint.pprint(insert_comment.acknowledged)\n",
    "pprint.pprint(insert_comment.inserted_id)\n"
   ]
  },
  {
   "cell_type": "code",
   "execution_count": 13,
   "metadata": {},
   "outputs": [
    {
     "ename": "DuplicateKeyError",
     "evalue": "E11000 duplicate key error collection: sample_mflix.comments index: _id_ dup key: { _id: \"some_id_field\" }, full error: {'index': 0, 'code': 11000, 'keyPattern': {'_id': 1}, 'keyValue': {'_id': 'some_id_field'}, 'errmsg': 'E11000 duplicate key error collection: sample_mflix.comments index: _id_ dup key: { _id: \"some_id_field\" }'}",
     "output_type": "error",
     "traceback": [
      "\u001b[1;31m---------------------------------------------------------------------------\u001b[0m",
      "\u001b[1;31mDuplicateKeyError\u001b[0m                         Traceback (most recent call last)",
      "\u001b[1;32mc:\\Users\\TRETEC\\Desktop\\Web Dev\\Mongo\\intro-to-mongodb\\notebooks\\08-insert-one.ipynb Cell 9\u001b[0m in \u001b[0;36m<cell line: 7>\u001b[1;34m()\u001b[0m\n\u001b[0;32m      <a href='vscode-notebook-cell:/c%3A/Users/TRETEC/Desktop/Web%20Dev/Mongo/intro-to-mongodb/notebooks/08-insert-one.ipynb#X11sZmlsZQ%3D%3D?line=0'>1</a>\u001b[0m \u001b[39m# to make sure the document was inserted successfully even though it has \u001b[39;00m\n\u001b[0;32m      <a href='vscode-notebook-cell:/c%3A/Users/TRETEC/Desktop/Web%20Dev/Mongo/intro-to-mongodb/notebooks/08-insert-one.ipynb#X11sZmlsZQ%3D%3D?line=1'>2</a>\u001b[0m \u001b[39m# a custom id, we will try to insert it once more\u001b[39;00m\n\u001b[0;32m      <a href='vscode-notebook-cell:/c%3A/Users/TRETEC/Desktop/Web%20Dev/Mongo/intro-to-mongodb/notebooks/08-insert-one.ipynb#X11sZmlsZQ%3D%3D?line=3'>4</a>\u001b[0m comment \u001b[39m=\u001b[39m {\n\u001b[0;32m      <a href='vscode-notebook-cell:/c%3A/Users/TRETEC/Desktop/Web%20Dev/Mongo/intro-to-mongodb/notebooks/08-insert-one.ipynb#X11sZmlsZQ%3D%3D?line=4'>5</a>\u001b[0m     \u001b[39m\"\u001b[39m\u001b[39m_id\u001b[39m\u001b[39m\"\u001b[39m: \u001b[39m\"\u001b[39m\u001b[39msome_id_field\u001b[39m\u001b[39m\"\u001b[39m\n\u001b[0;32m      <a href='vscode-notebook-cell:/c%3A/Users/TRETEC/Desktop/Web%20Dev/Mongo/intro-to-mongodb/notebooks/08-insert-one.ipynb#X11sZmlsZQ%3D%3D?line=5'>6</a>\u001b[0m }\n\u001b[1;32m----> <a href='vscode-notebook-cell:/c%3A/Users/TRETEC/Desktop/Web%20Dev/Mongo/intro-to-mongodb/notebooks/08-insert-one.ipynb#X11sZmlsZQ%3D%3D?line=6'>7</a>\u001b[0m insert_result \u001b[39m=\u001b[39m comments\u001b[39m.\u001b[39;49minsert_one(comment, bypass_validation)\n",
      "File \u001b[1;32mc:\\Users\\TRETEC\\Documents\\Python\\lib\\site-packages\\pymongo\\collection.py:621\u001b[0m, in \u001b[0;36mCollection.insert_one\u001b[1;34m(self, document, bypass_document_validation, session, comment)\u001b[0m\n\u001b[0;32m    617\u001b[0m     document[\u001b[39m\"\u001b[39m\u001b[39m_id\u001b[39m\u001b[39m\"\u001b[39m] \u001b[39m=\u001b[39m ObjectId()\n\u001b[0;32m    619\u001b[0m write_concern \u001b[39m=\u001b[39m \u001b[39mself\u001b[39m\u001b[39m.\u001b[39m_write_concern_for(session)\n\u001b[0;32m    620\u001b[0m \u001b[39mreturn\u001b[39;00m InsertOneResult(\n\u001b[1;32m--> 621\u001b[0m     \u001b[39mself\u001b[39;49m\u001b[39m.\u001b[39;49m_insert_one(\n\u001b[0;32m    622\u001b[0m         document,\n\u001b[0;32m    623\u001b[0m         ordered\u001b[39m=\u001b[39;49m\u001b[39mTrue\u001b[39;49;00m,\n\u001b[0;32m    624\u001b[0m         write_concern\u001b[39m=\u001b[39;49mwrite_concern,\n\u001b[0;32m    625\u001b[0m         op_id\u001b[39m=\u001b[39;49m\u001b[39mNone\u001b[39;49;00m,\n\u001b[0;32m    626\u001b[0m         bypass_doc_val\u001b[39m=\u001b[39;49mbypass_document_validation,\n\u001b[0;32m    627\u001b[0m         session\u001b[39m=\u001b[39;49msession,\n\u001b[0;32m    628\u001b[0m         comment\u001b[39m=\u001b[39;49mcomment,\n\u001b[0;32m    629\u001b[0m     ),\n\u001b[0;32m    630\u001b[0m     write_concern\u001b[39m.\u001b[39macknowledged,\n\u001b[0;32m    631\u001b[0m )\n",
      "File \u001b[1;32mc:\\Users\\TRETEC\\Documents\\Python\\lib\\site-packages\\pymongo\\collection.py:562\u001b[0m, in \u001b[0;36mCollection._insert_one\u001b[1;34m(self, doc, ordered, write_concern, op_id, bypass_doc_val, session, comment)\u001b[0m\n\u001b[0;32m    550\u001b[0m     result \u001b[39m=\u001b[39m sock_info\u001b[39m.\u001b[39mcommand(\n\u001b[0;32m    551\u001b[0m         \u001b[39mself\u001b[39m\u001b[39m.\u001b[39m__database\u001b[39m.\u001b[39mname,\n\u001b[0;32m    552\u001b[0m         command,\n\u001b[1;32m   (...)\u001b[0m\n\u001b[0;32m    557\u001b[0m         retryable_write\u001b[39m=\u001b[39mretryable_write,\n\u001b[0;32m    558\u001b[0m     )\n\u001b[0;32m    560\u001b[0m     _check_write_command_response(result)\n\u001b[1;32m--> 562\u001b[0m \u001b[39mself\u001b[39;49m\u001b[39m.\u001b[39;49m__database\u001b[39m.\u001b[39;49mclient\u001b[39m.\u001b[39;49m_retryable_write(acknowledged, _insert_command, session)\n\u001b[0;32m    564\u001b[0m \u001b[39mif\u001b[39;00m \u001b[39mnot\u001b[39;00m \u001b[39misinstance\u001b[39m(doc, RawBSONDocument):\n\u001b[0;32m    565\u001b[0m     \u001b[39mreturn\u001b[39;00m doc\u001b[39m.\u001b[39mget(\u001b[39m\"\u001b[39m\u001b[39m_id\u001b[39m\u001b[39m\"\u001b[39m)\n",
      "File \u001b[1;32mc:\\Users\\TRETEC\\Documents\\Python\\lib\\site-packages\\pymongo\\mongo_client.py:1448\u001b[0m, in \u001b[0;36mMongoClient._retryable_write\u001b[1;34m(self, retryable, func, session)\u001b[0m\n\u001b[0;32m   1446\u001b[0m \u001b[39m\"\"\"Internal retryable write helper.\"\"\"\u001b[39;00m\n\u001b[0;32m   1447\u001b[0m \u001b[39mwith\u001b[39;00m \u001b[39mself\u001b[39m\u001b[39m.\u001b[39m_tmp_session(session) \u001b[39mas\u001b[39;00m s:\n\u001b[1;32m-> 1448\u001b[0m     \u001b[39mreturn\u001b[39;00m \u001b[39mself\u001b[39;49m\u001b[39m.\u001b[39;49m_retry_with_session(retryable, func, s, \u001b[39mNone\u001b[39;49;00m)\n",
      "File \u001b[1;32mc:\\Users\\TRETEC\\Documents\\Python\\lib\\site-packages\\pymongo\\mongo_client.py:1321\u001b[0m, in \u001b[0;36mMongoClient._retry_with_session\u001b[1;34m(self, retryable, func, session, bulk)\u001b[0m\n\u001b[0;32m   1311\u001b[0m \u001b[39m\"\"\"Execute an operation with at most one consecutive retries\u001b[39;00m\n\u001b[0;32m   1312\u001b[0m \n\u001b[0;32m   1313\u001b[0m \u001b[39mReturns func()'s return value on success. On error retries the same\u001b[39;00m\n\u001b[1;32m   (...)\u001b[0m\n\u001b[0;32m   1316\u001b[0m \u001b[39mRe-raises any exception thrown by func().\u001b[39;00m\n\u001b[0;32m   1317\u001b[0m \u001b[39m\"\"\"\u001b[39;00m\n\u001b[0;32m   1318\u001b[0m retryable \u001b[39m=\u001b[39m (\n\u001b[0;32m   1319\u001b[0m     retryable \u001b[39mand\u001b[39;00m \u001b[39mself\u001b[39m\u001b[39m.\u001b[39moptions\u001b[39m.\u001b[39mretry_writes \u001b[39mand\u001b[39;00m session \u001b[39mand\u001b[39;00m \u001b[39mnot\u001b[39;00m session\u001b[39m.\u001b[39min_transaction\n\u001b[0;32m   1320\u001b[0m )\n\u001b[1;32m-> 1321\u001b[0m \u001b[39mreturn\u001b[39;00m \u001b[39mself\u001b[39;49m\u001b[39m.\u001b[39;49m_retry_internal(retryable, func, session, bulk)\n",
      "File \u001b[1;32mc:\\Users\\TRETEC\\Documents\\Python\\lib\\site-packages\\pymongo\\_csot.py:105\u001b[0m, in \u001b[0;36mapply.<locals>.csot_wrapper\u001b[1;34m(self, *args, **kwargs)\u001b[0m\n\u001b[0;32m    103\u001b[0m         \u001b[39mwith\u001b[39;00m _TimeoutContext(timeout):\n\u001b[0;32m    104\u001b[0m             \u001b[39mreturn\u001b[39;00m func(\u001b[39mself\u001b[39m, \u001b[39m*\u001b[39margs, \u001b[39m*\u001b[39m\u001b[39m*\u001b[39mkwargs)\n\u001b[1;32m--> 105\u001b[0m \u001b[39mreturn\u001b[39;00m func(\u001b[39mself\u001b[39m, \u001b[39m*\u001b[39margs, \u001b[39m*\u001b[39m\u001b[39m*\u001b[39mkwargs)\n",
      "File \u001b[1;32mc:\\Users\\TRETEC\\Documents\\Python\\lib\\site-packages\\pymongo\\mongo_client.py:1362\u001b[0m, in \u001b[0;36mMongoClient._retry_internal\u001b[1;34m(self, retryable, func, session, bulk)\u001b[0m\n\u001b[0;32m   1360\u001b[0m                 \u001b[39mraise\u001b[39;00m last_error\n\u001b[0;32m   1361\u001b[0m             retryable \u001b[39m=\u001b[39m \u001b[39mFalse\u001b[39;00m\n\u001b[1;32m-> 1362\u001b[0m         \u001b[39mreturn\u001b[39;00m func(session, sock_info, retryable)\n\u001b[0;32m   1363\u001b[0m \u001b[39mexcept\u001b[39;00m ServerSelectionTimeoutError:\n\u001b[0;32m   1364\u001b[0m     \u001b[39mif\u001b[39;00m is_retrying():\n\u001b[0;32m   1365\u001b[0m         \u001b[39m# The application may think the write was never attempted\u001b[39;00m\n\u001b[0;32m   1366\u001b[0m         \u001b[39m# if we raise ServerSelectionTimeoutError on the retry\u001b[39;00m\n\u001b[0;32m   1367\u001b[0m         \u001b[39m# attempt. Raise the original exception instead.\u001b[39;00m\n",
      "File \u001b[1;32mc:\\Users\\TRETEC\\Documents\\Python\\lib\\site-packages\\pymongo\\collection.py:560\u001b[0m, in \u001b[0;36mCollection._insert_one.<locals>._insert_command\u001b[1;34m(session, sock_info, retryable_write)\u001b[0m\n\u001b[0;32m    548\u001b[0m     command[\u001b[39m\"\u001b[39m\u001b[39mbypassDocumentValidation\u001b[39m\u001b[39m\"\u001b[39m] \u001b[39m=\u001b[39m \u001b[39mTrue\u001b[39;00m\n\u001b[0;32m    550\u001b[0m result \u001b[39m=\u001b[39m sock_info\u001b[39m.\u001b[39mcommand(\n\u001b[0;32m    551\u001b[0m     \u001b[39mself\u001b[39m\u001b[39m.\u001b[39m__database\u001b[39m.\u001b[39mname,\n\u001b[0;32m    552\u001b[0m     command,\n\u001b[1;32m   (...)\u001b[0m\n\u001b[0;32m    557\u001b[0m     retryable_write\u001b[39m=\u001b[39mretryable_write,\n\u001b[0;32m    558\u001b[0m )\n\u001b[1;32m--> 560\u001b[0m _check_write_command_response(result)\n",
      "File \u001b[1;32mc:\\Users\\TRETEC\\Documents\\Python\\lib\\site-packages\\pymongo\\helpers.py:217\u001b[0m, in \u001b[0;36m_check_write_command_response\u001b[1;34m(result)\u001b[0m\n\u001b[0;32m    215\u001b[0m write_errors \u001b[39m=\u001b[39m result\u001b[39m.\u001b[39mget(\u001b[39m\"\u001b[39m\u001b[39mwriteErrors\u001b[39m\u001b[39m\"\u001b[39m)\n\u001b[0;32m    216\u001b[0m \u001b[39mif\u001b[39;00m write_errors:\n\u001b[1;32m--> 217\u001b[0m     _raise_last_write_error(write_errors)\n\u001b[0;32m    219\u001b[0m wce \u001b[39m=\u001b[39m _get_wce_doc(result)\n\u001b[0;32m    220\u001b[0m \u001b[39mif\u001b[39;00m wce:\n",
      "File \u001b[1;32mc:\\Users\\TRETEC\\Documents\\Python\\lib\\site-packages\\pymongo\\helpers.py:189\u001b[0m, in \u001b[0;36m_raise_last_write_error\u001b[1;34m(write_errors)\u001b[0m\n\u001b[0;32m    187\u001b[0m error \u001b[39m=\u001b[39m write_errors[\u001b[39m-\u001b[39m\u001b[39m1\u001b[39m]\n\u001b[0;32m    188\u001b[0m \u001b[39mif\u001b[39;00m error\u001b[39m.\u001b[39mget(\u001b[39m\"\u001b[39m\u001b[39mcode\u001b[39m\u001b[39m\"\u001b[39m) \u001b[39m==\u001b[39m \u001b[39m11000\u001b[39m:\n\u001b[1;32m--> 189\u001b[0m     \u001b[39mraise\u001b[39;00m DuplicateKeyError(error\u001b[39m.\u001b[39mget(\u001b[39m\"\u001b[39m\u001b[39merrmsg\u001b[39m\u001b[39m\"\u001b[39m), \u001b[39m11000\u001b[39m, error)\n\u001b[0;32m    190\u001b[0m \u001b[39mraise\u001b[39;00m WriteError(error\u001b[39m.\u001b[39mget(\u001b[39m\"\u001b[39m\u001b[39merrmsg\u001b[39m\u001b[39m\"\u001b[39m), error\u001b[39m.\u001b[39mget(\u001b[39m\"\u001b[39m\u001b[39mcode\u001b[39m\u001b[39m\"\u001b[39m), error)\n",
      "\u001b[1;31mDuplicateKeyError\u001b[0m: E11000 duplicate key error collection: sample_mflix.comments index: _id_ dup key: { _id: \"some_id_field\" }, full error: {'index': 0, 'code': 11000, 'keyPattern': {'_id': 1}, 'keyValue': {'_id': 'some_id_field'}, 'errmsg': 'E11000 duplicate key error collection: sample_mflix.comments index: _id_ dup key: { _id: \"some_id_field\" }'}"
     ]
    }
   ],
   "source": [
    "# to make sure the document was inserted successfully even though it has \n",
    "# a custom id, we will try to insert it once more\n",
    "\n",
    "comment = {\n",
    "    \"_id\": \"some_id_field\"\n",
    "}\n",
    "insert_result = comments.insert_one(comment, bypass_validation)\n",
    "\n",
    "# this will raise DuplicateKeyError which means that a similar document\n",
    "# has the same id, which means that it is possible to have a custom id"
   ]
  },
  {
   "cell_type": "markdown",
   "metadata": {},
   "source": [
    "## Remarks about updating a document ##"
   ]
  },
  {
   "cell_type": "code",
   "execution_count": 15,
   "metadata": {},
   "outputs": [],
   "source": [
    "# in the video, the user uploaded a new comment to a certain movie\n",
    "# at first, we prepare a comment document with all its objects\n",
    "# then , in the update_doc , we will provide it with update fields\n",
    "# \"$inc\" will increment the value of num_mflix_comments\n",
    "# this helps us to not track this value each and every time\n",
    "# \"$inc\" will automatically increase the provided value\n",
    "# the second field is \"$push\" and this helps us to not replace all the array of comments\n",
    "# with that specific comment, but rather, push the comment to that array\n",
    "# and this saves us the trouble of providing all the array once again\n",
    "# it will push that new value directly"
   ]
  }
 ],
 "metadata": {
  "kernelspec": {
   "display_name": "Python 3.10.6 64-bit",
   "language": "python",
   "name": "python3"
  },
  "language_info": {
   "codemirror_mode": {
    "name": "ipython",
    "version": 3
   },
   "file_extension": ".py",
   "mimetype": "text/x-python",
   "name": "python",
   "nbconvert_exporter": "python",
   "pygments_lexer": "ipython3",
   "version": "3.10.6"
  },
  "orig_nbformat": 4,
  "vscode": {
   "interpreter": {
    "hash": "12d2c2d3923c7307a4e154db21fd62efd3624ebe6ee91bf0174fbeadb14239a8"
   }
  }
 },
 "nbformat": 4,
 "nbformat_minor": 2
}
