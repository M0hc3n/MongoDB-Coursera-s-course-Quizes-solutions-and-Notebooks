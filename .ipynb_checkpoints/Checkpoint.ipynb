{
 "cells": [
  {
   "cell_type": "code",
   "execution_count": 3,
   "metadata": {},
   "outputs": [
    {
     "name": "stdout",
     "output_type": "stream",
     "text": [
      "MongoClient(host=['ac-wolqjma-shard-00-00.pgjysjd.mongodb.net:27017', 'ac-wolqjma-shard-00-02.pgjysjd.mongodb.net:27017', 'ac-wolqjma-shard-00-01.pgjysjd.mongodb.net:27017'], document_class=dict, tz_aware=False, connect=True, retrywrites=True, w='majority', authsource='admin', replicaset='atlas-ydckz1-shard-0', tls=True)\n"
     ]
    }
   ],
   "source": [
    "# test the connection uri here\n",
    "from pymongo import MongoClient\n",
    "\n",
    "\n",
    "client = MongoClient(XXX)\n",
    "\n",
    "print(client)"
   ]
  },
  {
   "cell_type": "code",
   "execution_count": null,
   "id": "8eff09de",
   "metadata": {},
   "outputs": [],
   "source": []
  }
 ],
 "metadata": {
  "kernelspec": {
   "display_name": "Python 3.10.4 64-bit",
   "language": "python",
   "name": "python3"
  },
  "language_info": {
   "codemirror_mode": {
    "name": "ipython",
    "version": 3
   },
   "file_extension": ".py",
   "mimetype": "text/x-python",
   "name": "python",
   "nbconvert_exporter": "python",
   "pygments_lexer": "ipython3",
   "version": "3.10.4"
  },
  "vscode": {
   "interpreter": {
    "hash": "12d2c2d3923c7307a4e154db21fd62efd3624ebe6ee91bf0174fbeadb14239a8"
   }
  }
 },
 "nbformat": 4,
 "nbformat_minor": 5
}
